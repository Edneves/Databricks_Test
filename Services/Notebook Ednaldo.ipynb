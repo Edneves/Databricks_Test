{
 "cells": [
  {
   "cell_type": "code",
   "execution_count": 0,
   "metadata": {
    "application/vnd.databricks.v1+cell": {
     "cellMetadata": {
      "byteLimit": 2048000,
      "rowLimit": 10000
     },
     "inputWidgets": {},
     "nuid": "7de7bd3f-154a-4dfe-973c-72aed81a4981",
     "showTitle": false,
     "title": ""
    }
   },
   "outputs": [],
   "source": [
    "# ARGUMENTOS DESTINADOS A CONEXÃO COM O DATABASE\n",
    "PARAMS = {\n",
    "    \"DRIVER\" : \"org.postgresql.Driver\",\n",
    "    \"DB\" : \"ecom1692155331663giqokzaqmuqlogbu\",\n",
    "    \"USER\" : \"eolowynayhvayxbhluzaqxfp@psql-mock-database-cloud\",\n",
    "    \"PWD\" : \"hdzvzutlssuozdonhflhwyjm\",\n",
    "    \"HOST\" : \"psql-mock-database-cloud.postgres.database.azure.com\",\n",
    "    \"PORT\" : 5432,\n",
    "}\n",
    "URL = f\"jdbc:postgresql://{PARAMS['HOST']}:{PARAMS['PORT']}/{PARAMS['DB']}\"\n",
    "\n",
    "LIST_TABLES = ['customers', \n",
    "               'employees', \n",
    "               'offices', \n",
    "               'orderdetails', \n",
    "               'orders', \n",
    "               'payments', \n",
    "               'product_lines', \n",
    "               'products']"
   ]
  },
  {
   "cell_type": "code",
   "execution_count": 0,
   "metadata": {
    "application/vnd.databricks.v1+cell": {
     "cellMetadata": {
      "byteLimit": 2048000,
      "rowLimit": 10000
     },
     "inputWidgets": {},
     "nuid": "ba455de4-fd6a-4ded-ad49-464ea607e24e",
     "showTitle": false,
     "title": ""
    }
   },
   "outputs": [],
   "source": [
    "# CONEXÃO E EXTRAÇÃO DO DATABASE\n",
    "def extract_data(driver: str, url: str, user: str, pwd: str, table_name: str):\n",
    "    try:\n",
    "        table = (spark.read.format(\"jdbc\").option(\"driver\", driver).option(\"url\", url).option(\"dbtable\", table_name).option(\"user\", user).option(\"password\", pwd).load())\n",
    "        return table\n",
    "    except Exception as e:\n",
    "        print(e)"
   ]
  },
  {
   "cell_type": "code",
   "execution_count": 0,
   "metadata": {
    "application/vnd.databricks.v1+cell": {
     "cellMetadata": {
      "byteLimit": 2048000,
      "rowLimit": 10000
     },
     "inputWidgets": {},
     "nuid": "827d2fd2-0bf1-4332-a818-675638fdac3d",
     "showTitle": false,
     "title": ""
    }
   },
   "outputs": [],
   "source": [
    "# CONSTRUÇÃO DO ARQUIVO PARQUET\n",
    "def create_file(driver: str, url: str, user: str, pwd: str, list_tables: list[str]):\n",
    "    try:\n",
    "        for table_name in list_tables:\n",
    "            table = extract_data(driver, url, user, pwd, table_name)\n",
    "            table.write.mode(\"overwrite\").format(\"parquet\").save(f\"/FileStore/tables/{table_name}\")\n",
    "        print(\"DADOS EXTRAÍDOS!\")\n",
    "        print(\"ARQUIVOS PARQUET'S GERADOS\")\n",
    "    except Exception as e:\n",
    "        print(e)"
   ]
  },
  {
   "cell_type": "code",
   "execution_count": 0,
   "metadata": {
    "application/vnd.databricks.v1+cell": {
     "cellMetadata": {
      "byteLimit": 2048000,
      "rowLimit": 10000
     },
     "inputWidgets": {},
     "nuid": "44a40535-85f2-4516-8c4f-83aa30043f83",
     "showTitle": false,
     "title": ""
    }
   },
   "outputs": [],
   "source": [
    "# LEITURA DO ARQUIVO PARQUET\n",
    "def read_parquet(table_name: str):\n",
    "    try:\n",
    "        files_to_tables = spark.read.parquet(f\"/FileStore/tables/{table_name}/*.parquet\")\n",
    "        return files_to_tables\n",
    "    except Exception as e:\n",
    "        print(e)\n",
    "    "
   ]
  },
  {
   "cell_type": "code",
   "execution_count": 0,
   "metadata": {
    "application/vnd.databricks.v1+cell": {
     "cellMetadata": {
      "byteLimit": 2048000,
      "rowLimit": 10000
     },
     "inputWidgets": {},
     "nuid": "6c6ac4de-c93f-4b4e-b93a-f8e52cdc9ec8",
     "showTitle": false,
     "title": ""
    }
   },
   "outputs": [],
   "source": [
    "# CONSTRUÇÃO DA TABELA NO DATABRICKS\n",
    "def create_table(list_tables: list[str]):\n",
    "    try:\n",
    "        for table_name in list_tables:\n",
    "            data = read_parquet(table_name)\n",
    "            data.createOrReplaceTempView(f\"tmp_{table_name}\")\n",
    "        print(\"ARQUIVOS PARQUET LIDOS\")\n",
    "    except Exception as e:\n",
    "        print(e)\n"
   ]
  },
  {
   "cell_type": "code",
   "execution_count": 0,
   "metadata": {
    "application/vnd.databricks.v1+cell": {
     "cellMetadata": {
      "byteLimit": 2048000,
      "rowLimit": 10000
     },
     "inputWidgets": {},
     "nuid": "3767506a-9e0b-46df-803a-0b171e659bca",
     "showTitle": false,
     "title": ""
    }
   },
   "outputs": [],
   "source": [
    "# QUERY DESTINADA A ATUALIZAÇÃO DE ALGUMA TABELA\n",
    "def update_table():\n",
    "    try:\n",
    "        spark.sql(\"--UPDATE <table_name> SET <coluna_que_sera_alterada> = <new_value> WHERE <reference_colunm> = <value>\")\n",
    "        print(\"UPDATE REALIZADO COM SUCESSO!\")\n",
    "    except Exception as e:\n",
    "        print(e)"
   ]
  },
  {
   "cell_type": "code",
   "execution_count": 0,
   "metadata": {
    "application/vnd.databricks.v1+cell": {
     "cellMetadata": {
      "byteLimit": 2048000,
      "rowLimit": 10000
     },
     "inputWidgets": {},
     "nuid": "a0002935-778b-41c2-814c-10c930d036bf",
     "showTitle": false,
     "title": ""
    }
   },
   "outputs": [],
   "source": [
    "# QUERY DESTINADA A DELEÇÃO DE ALGUMA TABELA\n",
    "def delete_table():\n",
    "    try:\n",
    "        spark.sql(\"--DELETE FROM <table_name> WHERE <reference_colunm> = <value>\")\n",
    "        print(\"DELETE REALIZADO COM SUCESSO!\")\n",
    "    except Exception as e:\n",
    "        print(e)"
   ]
  },
  {
   "cell_type": "code",
   "execution_count": 0,
   "metadata": {
    "application/vnd.databricks.v1+cell": {
     "cellMetadata": {
      "byteLimit": 2048000,
      "rowLimit": 10000
     },
     "inputWidgets": {},
     "nuid": "16b592da-64ce-49f5-a63a-51f4c060e112",
     "showTitle": false,
     "title": ""
    }
   },
   "outputs": [],
   "source": [
    "# QUERY DESTINADA A PROJEÇÃO DOS VENDEDORES DO JAPÃO\n",
    "def vendedores():\n",
    "    try:\n",
    "        vendedoresJapan = spark.sql(\"SELECT first_name as Nome, \\\n",
    "                            last_name as Sobrenome, \\\n",
    "                            regexp_extract(email, '^.*@(.*)$', 1) as Email \\\n",
    "        FROM tmp_employees \\\n",
    "        INNER JOIN tmp_offices ON tmp_employees.office_code = tmp_offices.office_code \\\n",
    "        WHERE tmp_employees.job_Title = 'Sales Rep' AND tmp_offices.country = 'Japan'\")\n",
    "        vendedoresJapan.write.format(\"delta\").mode(\"overwrite\").save(\"/tmp/delta/vendedores\")\n",
    "        print('IDENTIFICADO VENDEDORES DO JAPÃO')\n",
    "    except Exception as e:\n",
    "        print(e)\n"
   ]
  },
  {
   "cell_type": "code",
   "execution_count": 0,
   "metadata": {
    "application/vnd.databricks.v1+cell": {
     "cellMetadata": {
      "byteLimit": 2048000,
      "rowLimit": 10000
     },
     "inputWidgets": {},
     "nuid": "60752ee7-604a-4ae7-ae1c-9b9309024ce1",
     "showTitle": false,
     "title": ""
    }
   },
   "outputs": [],
   "source": [
    "# QUERY DESTINADA AO LEVANTAMENTO DO MAIOR FATURAMENTO DE 2005\n",
    "def faturamento():\n",
    "    try:\n",
    "        maiorFaturamento = spark.sql(\"select sum(tmp_payments.amount) as Faturamento, tmp_products.product_line as Linha_de_Produtos \\\n",
    "        from tmp_orders \\\n",
    "        INNER JOIN tmp_payments \\\n",
    "        ON tmp_orders.customer_number = tmp_payments.customer_number \\\n",
    "        INNER JOIN tmp_orderdetails \\\n",
    "        ON tmp_orders.order_number = tmp_orderdetails.order_number \\\n",
    "        INNER JOIN tmp_products \\\n",
    "        ON tmp_orderdetails.product_code = tmp_products.product_code \\\n",
    "        WHERE tmp_orders.status = 'Shipped' and year(tmp_orders.order_date) = 2005 \\\n",
    "        group by 2 order by Faturamento desc limit 1\")\n",
    "        maiorFaturamento.write.format(\"delta\").mode(\"overwrite\").save(\"/tmp/delta/faturamento\")\n",
    "        print('LEVANTADO O MAIOR FATURAMENTO')\n",
    "    except Exception as e:\n",
    "        print(e)"
   ]
  },
  {
   "cell_type": "code",
   "execution_count": 0,
   "metadata": {
    "application/vnd.databricks.v1+cell": {
     "cellMetadata": {
      "byteLimit": 2048000,
      "rowLimit": 10000
     },
     "inputWidgets": {},
     "nuid": "d53a7104-097f-4689-944b-c9cda6574395",
     "showTitle": false,
     "title": ""
    }
   },
   "outputs": [],
   "source": [
    "# QUERY DESTINADA A IDENTIFICAÇÃO DO PAÍS QUE TEVE A MAIOR QUANTIDADE DE ITENS CANCELADOS \n",
    "def itens_cancelados():\n",
    "    try:\n",
    "        itensCancelados = spark.sql(\"select tmp_offices.country as Pais, SUM(tmp_orderdetails.quantity_ordered)as Itens_Cancelados from tmp_orders \\\n",
    "        INNER JOIN tmp_orderdetails \\\n",
    "        ON tmp_orders.order_number = tmp_orderdetails.order_number \\\n",
    "        inner join tmp_customers \\\n",
    "        ON tmp_orders.customer_number = tmp_customers.customer_number \\\n",
    "        INNER JOIN tmp_employees \\\n",
    "        ON tmp_customers.sales_rep_employee_number = tmp_employees.employee_number \\\n",
    "        INNER JOIN tmp_offices \\\n",
    "        ON tmp_employees.office_code = tmp_offices.office_code \\\n",
    "        where tmp_orders.status = 'Cancelled' \\\n",
    "        GROUP BY 1 ORDER BY 2 DESC LIMIT 1\")\n",
    "        itensCancelados.write.format(\"delta\").mode(\"overwrite\").save(\"/tmp/delta/itensCancelados\")\n",
    "        \n",
    "        print('IDENTIFICADO O PAÍS COM A MAIOR QUANTIDADE DE ITENS CANCELADOS')\n",
    "    except Exception as e:\n",
    "        print(e)"
   ]
  },
  {
   "cell_type": "code",
   "execution_count": 0,
   "metadata": {
    "application/vnd.databricks.v1+cell": {
     "cellMetadata": {
      "byteLimit": 2048000,
      "rowLimit": 10000
     },
     "inputWidgets": {},
     "nuid": "83247b26-ab12-47b6-97da-dd1fb825a510",
     "showTitle": false,
     "title": ""
    }
   },
   "outputs": [],
   "source": [
    "# MÉTODO MAIN ONDE STARTAR A EXECUÇÃO DAS FUNÇÕES PRINCIPAIS\n",
    "def main(driver: str, url: str, user: str, pwd: str, list_tables: list[str]):\n",
    "    create_file(driver, url, user, pwd, list_tables)\n",
    "    create_table(list_tables)\n",
    "    print(\"TABELAS CONSTRUÍDAS\")\n",
    "    #update_table()\n",
    "    #delete_table()\n",
    "    vendedores()\n",
    "    faturamento()\n",
    "    itens_cancelados()\n",
    "    print(\"MÉTODO MAIN EXECUTADO\")"
   ]
  },
  {
   "cell_type": "code",
   "execution_count": 0,
   "metadata": {
    "application/vnd.databricks.v1+cell": {
     "cellMetadata": {
      "byteLimit": 2048000,
      "rowLimit": 10000
     },
     "inputWidgets": {},
     "nuid": "7623e678-05b8-43ff-95af-f505fae77a89",
     "showTitle": false,
     "title": ""
    }
   },
   "outputs": [
    {
     "output_type": "stream",
     "name": "stdout",
     "output_type": "stream",
     "text": [
      "DADOS EXTRAÍDOS!\nARQUIVOS PARQUET'S GERADOS\nARQUIVOS PARQUET LIDOS\nTABELAS CONSTRUÍDAS\nIDENTIFICADO VENDEDORES DO JAPÃO\nLEVANTADO O MAIOR FATURAMENTO\nIDENTIFICADO O PAÍS COM A MAIOR QUANTIDADE DE ITENS CANCELADOS\nMÉTODO MAIN EXECUTADO\n"
     ]
    }
   ],
   "source": [
    "# DISPARO DA FUNÇÃO MAIN, PASSANDO OS VALORES\n",
    "if __name__ == \"__main__\":\n",
    "    main(PARAMS['DRIVER'], \n",
    "         URL, \n",
    "         PARAMS['USER'], \n",
    "         PARAMS['PWD'], \n",
    "         LIST_TABLES)"
   ]
  },
  {
   "cell_type": "code",
   "execution_count": 0,
   "metadata": {
    "application/vnd.databricks.v1+cell": {
     "cellMetadata": {},
     "inputWidgets": {},
     "nuid": "687e29c9-af36-493b-bf0a-b8269ad01ecc",
     "showTitle": false,
     "title": ""
    }
   },
   "outputs": [],
   "source": []
  }
 ],
 "metadata": {
  "application/vnd.databricks.v1+notebook": {
   "dashboards": [],
   "language": "python",
   "notebookMetadata": {
    "mostRecentlyExecutedCommandWithImplicitDF": {
     "commandId": 2860081039872096,
     "dataframes": [
      "_sqldf"
     ]
    },
    "pythonIndentUnit": 4
   },
   "notebookName": "Notebook Ednaldo",
   "widgets": {}
  }
 },
 "nbformat": 4,
 "nbformat_minor": 0
}
